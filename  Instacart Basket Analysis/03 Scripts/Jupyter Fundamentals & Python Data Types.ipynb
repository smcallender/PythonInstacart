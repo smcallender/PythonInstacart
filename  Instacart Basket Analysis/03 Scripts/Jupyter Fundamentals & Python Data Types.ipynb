{
 "cells": [
  {
   "cell_type": "markdown",
   "id": "d7f7b58b",
   "metadata": {},
   "source": [
    "# Import libraries"
   ]
  },
  {
   "cell_type": "code",
   "execution_count": 1,
   "id": "b6e3a775",
   "metadata": {},
   "outputs": [],
   "source": [
    "# Import libraries\n",
    "import pandas as pd\n",
    "import numpy as np\n",
    "import os"
   ]
  },
  {
   "cell_type": "markdown",
   "id": "383590d1",
   "metadata": {},
   "source": [
    "Data Types"
   ]
  },
  {
   "cell_type": "code",
   "execution_count": 2,
   "id": "957d8a36",
   "metadata": {},
   "outputs": [],
   "source": [
    "x=50"
   ]
  },
  {
   "cell_type": "code",
   "execution_count": 3,
   "id": "fdd1a27d",
   "metadata": {},
   "outputs": [],
   "source": [
    "y=50"
   ]
  },
  {
   "cell_type": "code",
   "execution_count": 4,
   "id": "8c73deb2",
   "metadata": {},
   "outputs": [
    {
     "data": {
      "text/plain": [
       "100"
      ]
     },
     "execution_count": 4,
     "metadata": {},
     "output_type": "execute_result"
    }
   ],
   "source": [
    "x+y"
   ]
  },
  {
   "cell_type": "code",
   "execution_count": 5,
   "id": "303b3e65",
   "metadata": {},
   "outputs": [],
   "source": [
    "z=25"
   ]
  },
  {
   "cell_type": "code",
   "execution_count": 6,
   "id": "82ec33c1",
   "metadata": {},
   "outputs": [
    {
     "data": {
      "text/plain": [
       "100"
      ]
     },
     "execution_count": 6,
     "metadata": {},
     "output_type": "execute_result"
    }
   ],
   "source": [
    "y+z+z"
   ]
  },
  {
   "cell_type": "code",
   "execution_count": 7,
   "id": "ccd397b7",
   "metadata": {},
   "outputs": [
    {
     "data": {
      "text/plain": [
       "100"
      ]
     },
     "execution_count": 7,
     "metadata": {},
     "output_type": "execute_result"
    }
   ],
   "source": [
    "z*4"
   ]
  },
  {
   "cell_type": "code",
   "execution_count": 8,
   "id": "bde63d8c",
   "metadata": {},
   "outputs": [],
   "source": [
    "j=2.5"
   ]
  },
  {
   "cell_type": "code",
   "execution_count": 9,
   "id": "08f61079",
   "metadata": {},
   "outputs": [],
   "source": [
    "k=7.8"
   ]
  },
  {
   "cell_type": "code",
   "execution_count": 10,
   "id": "229bbbec",
   "metadata": {},
   "outputs": [
    {
     "data": {
      "text/plain": [
       "0.32051282051282054"
      ]
     },
     "execution_count": 10,
     "metadata": {},
     "output_type": "execute_result"
    }
   ],
   "source": [
    "j/k"
   ]
  },
  {
   "cell_type": "code",
   "execution_count": 11,
   "id": "e82df5ee",
   "metadata": {},
   "outputs": [],
   "source": [
    "a = 'trau'"
   ]
  },
  {
   "cell_type": "code",
   "execution_count": 12,
   "id": "756bcc0a",
   "metadata": {},
   "outputs": [],
   "source": [
    "b = 'ma'"
   ]
  },
  {
   "cell_type": "code",
   "execution_count": 13,
   "id": "4a17dd0c",
   "metadata": {},
   "outputs": [
    {
     "data": {
      "text/plain": [
       "'trauma'"
      ]
     },
     "execution_count": 13,
     "metadata": {},
     "output_type": "execute_result"
    }
   ],
   "source": [
    "a + b"
   ]
  },
  {
   "cell_type": "code",
   "execution_count": 14,
   "id": "cde91671",
   "metadata": {},
   "outputs": [],
   "source": [
    "c = 'Eugene '"
   ]
  },
  {
   "cell_type": "code",
   "execution_count": 15,
   "id": "09a5ade2",
   "metadata": {},
   "outputs": [],
   "source": [
    "d = 'has  '"
   ]
  },
  {
   "cell_type": "code",
   "execution_count": 16,
   "id": "ee1d1be4",
   "metadata": {},
   "outputs": [],
   "source": [
    "e = 'drama.'"
   ]
  },
  {
   "cell_type": "code",
   "execution_count": 21,
   "id": "b96d130a",
   "metadata": {},
   "outputs": [
    {
     "data": {
      "text/plain": [
       "'Eugenehastrauma'"
      ]
     },
     "execution_count": 21,
     "metadata": {},
     "output_type": "execute_result"
    }
   ],
   "source": [
    "c+d+e"
   ]
  },
  {
   "cell_type": "code",
   "execution_count": 19,
   "id": "c72152e7",
   "metadata": {},
   "outputs": [
    {
     "data": {
      "text/plain": [
       "'Eugenehastrauma'"
      ]
     },
     "execution_count": 19,
     "metadata": {},
     "output_type": "execute_result"
    }
   ],
   "source": [
    "c + d + e"
   ]
  },
  {
   "cell_type": "code",
   "execution_count": 20,
   "id": "d21e24ee",
   "metadata": {},
   "outputs": [
    {
     "data": {
      "text/plain": [
       "'Eugenehastrauma'"
      ]
     },
     "execution_count": 20,
     "metadata": {},
     "output_type": "execute_result"
    }
   ],
   "source": [
    "c + d + e"
   ]
  },
  {
   "cell_type": "code",
   "execution_count": 22,
   "id": "4ca276ec",
   "metadata": {},
   "outputs": [
    {
     "data": {
      "text/plain": [
       "'Eugenehastrauma'"
      ]
     },
     "execution_count": 22,
     "metadata": {},
     "output_type": "execute_result"
    }
   ],
   "source": [
    "c+d+e"
   ]
  },
  {
   "cell_type": "code",
   "execution_count": 23,
   "id": "e9610fa6",
   "metadata": {},
   "outputs": [],
   "source": [
    "l = 'Thank '"
   ]
  },
  {
   "cell_type": "code",
   "execution_count": 24,
   "id": "19b5b03e",
   "metadata": {},
   "outputs": [],
   "source": [
    "m = 'you, '"
   ]
  },
  {
   "cell_type": "code",
   "execution_count": 25,
   "id": "356c74e7",
   "metadata": {},
   "outputs": [],
   "source": [
    "o = 'Katie!'"
   ]
  },
  {
   "cell_type": "code",
   "execution_count": 26,
   "id": "4431a128",
   "metadata": {},
   "outputs": [
    {
     "data": {
      "text/plain": [
       "'Thank you, Katie!'"
      ]
     },
     "execution_count": 26,
     "metadata": {},
     "output_type": "execute_result"
    }
   ],
   "source": [
    "l + m + o"
   ]
  },
  {
   "cell_type": "code",
   "execution_count": 27,
   "id": "5e2abc4b",
   "metadata": {},
   "outputs": [],
   "source": [
    "p = 'You '"
   ]
  },
  {
   "cell_type": "code",
   "execution_count": 28,
   "id": "0f670439",
   "metadata": {},
   "outputs": [],
   "source": [
    "q = 'are '"
   ]
  },
  {
   "cell_type": "code",
   "execution_count": 29,
   "id": "ae437e5b",
   "metadata": {},
   "outputs": [],
   "source": [
    "r = 'welcome!'"
   ]
  },
  {
   "cell_type": "code",
   "execution_count": 30,
   "id": "394485ae",
   "metadata": {},
   "outputs": [
    {
     "data": {
      "text/plain": [
       "'You are welcome!'"
      ]
     },
     "execution_count": 30,
     "metadata": {},
     "output_type": "execute_result"
    }
   ],
   "source": [
    "p + q + r"
   ]
  },
  {
   "cell_type": "code",
   "execution_count": null,
   "id": "9912e882",
   "metadata": {},
   "outputs": [],
   "source": []
  }
 ],
 "metadata": {
  "kernelspec": {
   "display_name": "Python 3 (ipykernel)",
   "language": "python",
   "name": "python3"
  },
  "language_info": {
   "codemirror_mode": {
    "name": "ipython",
    "version": 3
   },
   "file_extension": ".py",
   "mimetype": "text/x-python",
   "name": "python",
   "nbconvert_exporter": "python",
   "pygments_lexer": "ipython3",
   "version": "3.10.9"
  }
 },
 "nbformat": 4,
 "nbformat_minor": 5
}
