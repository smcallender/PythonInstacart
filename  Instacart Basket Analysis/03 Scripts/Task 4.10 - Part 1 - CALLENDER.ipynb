{
 "cells": [
  {
   "cell_type": "markdown",
   "id": "587a404c",
   "metadata": {},
   "source": [
    "1. Import libraries & Dataset"
   ]
  },
  {
   "cell_type": "code",
   "execution_count": 1,
   "id": "e293c025",
   "metadata": {},
   "outputs": [],
   "source": [
    "#import libraries\n",
    "import pandas as pd\n",
    "import numpy as np\n",
    "import os\n",
    "import matplotlib.pyplot as plt\n",
    "import seaborn as sns\n",
    "import scipy"
   ]
  },
  {
   "cell_type": "code",
   "execution_count": 2,
   "id": "eb9c02e4",
   "metadata": {},
   "outputs": [],
   "source": [
    "#import order_products_customer pkl\n",
    "df_ords_prods_custm = pd.read_pickle(r'/Users/samuelcallender/Documents/ Instacart Basket Analysis/02 Data/Prepared Data/orders_products_customers.pkl')\n",
    "\n"
   ]
  },
  {
   "cell_type": "markdown",
   "id": "bb1cbfd6",
   "metadata": {},
   "source": [
    "2. Address Data Security"
   ]
  },
  {
   "cell_type": "code",
   "execution_count": 3,
   "id": "36f22a09",
   "metadata": {},
   "outputs": [
    {
     "name": "stdout",
     "output_type": "stream",
     "text": [
      "<class 'pandas.core.frame.DataFrame'>\n",
      "Int64Index: 32406041 entries, 0 to 32406040\n",
      "Data columns (total 34 columns):\n",
      " #   Column                  Dtype   \n",
      "---  ------                  -----   \n",
      " 0   Unnamed: 0.1            int64   \n",
      " 1   Unnamed: 0              int64   \n",
      " 2   order_id                int64   \n",
      " 3   user_id                 object  \n",
      " 4   eval_set                object  \n",
      " 5   order_number            int64   \n",
      " 6   order_day_of_week       int64   \n",
      " 7   order_hour_of_day       int64   \n",
      " 8   days_since_prior_order  float64 \n",
      " 9   product_id              int64   \n",
      " 10  add_to_cart_order       int64   \n",
      " 11  reordered               int64   \n",
      " 12  product_name            object  \n",
      " 13  aisle_id                int64   \n",
      " 14  department_id           int64   \n",
      " 15  prices                  float64 \n",
      " 16  _merge                  category\n",
      " 17  price_range_loc         object  \n",
      " 18  busiest_day             object  \n",
      " 19  busiest_days            object  \n",
      " 20  busiest_period_of_day   object  \n",
      " 21  max_order               int64   \n",
      " 22  loyalty_flag            object  \n",
      " 23  average_price           float64 \n",
      " 24  spending_flag           object  \n",
      " 25  median_prior_orders     float64 \n",
      " 26  order_frequency_flag    object  \n",
      " 27  gender                  object  \n",
      " 28  state                   object  \n",
      " 29  age                     int64   \n",
      " 30  date_joined             object  \n",
      " 31  number_dependants       int64   \n",
      " 32  family_status           object  \n",
      " 33  income                  int64   \n",
      "dtypes: category(1), float64(4), int64(15), object(14)\n",
      "memory usage: 8.2+ GB\n"
     ]
    }
   ],
   "source": [
    "df_ords_prods_custm.info()"
   ]
  },
  {
   "cell_type": "markdown",
   "id": "07ceb874",
   "metadata": {},
   "source": [
    "3. Create regional segmentation of the data"
   ]
  },
  {
   "cell_type": "code",
   "execution_count": 5,
   "id": "a24041f7",
   "metadata": {},
   "outputs": [],
   "source": [
    "#create states within regions\n",
    "region = []\n",
    "for value in df_ords_prods_custm['state']:\n",
    "    if (value == 'Maine') or (value == 'New Hampshire') or (value == 'Vermont') or (value == 'Massachusetts') or (value == 'Rhode Island') or (value == 'Connecticut') or (value == 'New York') or (value == 'Pennsylvania') or (value =='New Jersey'):\n",
    "        region.append('Northeast')\n",
    "    elif (value == 'Wisconsin') or (value == 'Michigan') or (value == 'Illinois') or (value == 'Indiana') or (value == 'Ohio') or (value == 'North Dakota') or (value == 'South Dakota') or (value == 'Nebraska') or (value == 'Kansas') or (value == 'Minnesota') or (value == 'Iowa') or (value == 'Missouri'):\n",
    "        region.append('Midwest')\n",
    "    elif (value == 'Idaho') or (value == 'Montana') or (value == 'Wyoming') or (value == 'Nevada') or (value == 'Utah') or (value == 'Colorado') or (value == 'Arizona') or (value == 'New Mexico') or (value == 'Alaska') or (value == 'Washington') or (value == 'Oregon') or (value == 'California') or (value == 'Hawaii'):\n",
    "        region.append('West')\n",
    "    else:\n",
    "        region.append('South')"
   ]
  },
  {
   "cell_type": "code",
   "execution_count": 6,
   "id": "f2ba7638",
   "metadata": {},
   "outputs": [],
   "source": [
    "#create the region column\n",
    "df_ords_prods_custm['region'] = region"
   ]
  },
  {
   "cell_type": "code",
   "execution_count": 7,
   "id": "44663cc8",
   "metadata": {},
   "outputs": [
    {
     "data": {
      "text/plain": [
       "South        10792300\n",
       "West          8293217\n",
       "Midwest       7597585\n",
       "Northeast     5722939\n",
       "Name: region, dtype: int64"
      ]
     },
     "execution_count": 7,
     "metadata": {},
     "output_type": "execute_result"
    }
   ],
   "source": [
    "df_ords_prods_custm['region'].value_counts(dropna = False)"
   ]
  },
  {
   "cell_type": "code",
   "execution_count": 8,
   "id": "b1b47922",
   "metadata": {},
   "outputs": [],
   "source": [
    "region_spend = pd.crosstab(df_ords_prods_custm['region'],df_ords_prods_custm['spending_flag'],dropna = False)"
   ]
  },
  {
   "cell_type": "code",
   "execution_count": 9,
   "id": "ae081585",
   "metadata": {},
   "outputs": [],
   "source": [
    "region_spend.to_clipboard()"
   ]
  },
  {
   "cell_type": "code",
   "execution_count": 10,
   "id": "a50db204",
   "metadata": {},
   "outputs": [
    {
     "data": {
      "text/html": [
       "<div>\n",
       "<style scoped>\n",
       "    .dataframe tbody tr th:only-of-type {\n",
       "        vertical-align: middle;\n",
       "    }\n",
       "\n",
       "    .dataframe tbody tr th {\n",
       "        vertical-align: top;\n",
       "    }\n",
       "\n",
       "    .dataframe thead th {\n",
       "        text-align: right;\n",
       "    }\n",
       "</style>\n",
       "<table border=\"1\" class=\"dataframe\">\n",
       "  <thead>\n",
       "    <tr style=\"text-align: right;\">\n",
       "      <th>spending_flag</th>\n",
       "      <th>High spender</th>\n",
       "      <th>Low spender</th>\n",
       "    </tr>\n",
       "    <tr>\n",
       "      <th>region</th>\n",
       "      <th></th>\n",
       "      <th></th>\n",
       "    </tr>\n",
       "  </thead>\n",
       "  <tbody>\n",
       "    <tr>\n",
       "      <th>Midwest</th>\n",
       "      <td>156158</td>\n",
       "      <td>7441427</td>\n",
       "    </tr>\n",
       "    <tr>\n",
       "      <th>Northeast</th>\n",
       "      <td>108246</td>\n",
       "      <td>5614693</td>\n",
       "    </tr>\n",
       "    <tr>\n",
       "      <th>South</th>\n",
       "      <td>210019</td>\n",
       "      <td>10582281</td>\n",
       "    </tr>\n",
       "    <tr>\n",
       "      <th>West</th>\n",
       "      <td>160478</td>\n",
       "      <td>8132739</td>\n",
       "    </tr>\n",
       "  </tbody>\n",
       "</table>\n",
       "</div>"
      ],
      "text/plain": [
       "spending_flag  High spender  Low spender\n",
       "region                                  \n",
       "Midwest              156158      7441427\n",
       "Northeast            108246      5614693\n",
       "South                210019     10582281\n",
       "West                 160478      8132739"
      ]
     },
     "execution_count": 10,
     "metadata": {},
     "output_type": "execute_result"
    }
   ],
   "source": [
    "region_spend"
   ]
  },
  {
   "cell_type": "markdown",
   "id": "fdee19d3",
   "metadata": {},
   "source": [
    "4. Create an exclusion flag for low-activity customers (customers with less than 5 orders) and exclude them from the data. Make sure you export this sample."
   ]
  },
  {
   "cell_type": "code",
   "execution_count": 11,
   "id": "71d89c2f",
   "metadata": {},
   "outputs": [],
   "source": [
    "df_ords_prods_custm.loc[df_ords_prods_custm['max_order'] < 5, 'low_order_flag'] = 'Low order customer'"
   ]
  },
  {
   "cell_type": "code",
   "execution_count": 12,
   "id": "0a37d100",
   "metadata": {},
   "outputs": [],
   "source": [
    "df_ords_prods_custm.loc[df_ords_prods_custm['max_order'] >= 5, 'low_order_flag'] = 'High order customer'"
   ]
  },
  {
   "cell_type": "code",
   "execution_count": 13,
   "id": "0aff4fe0",
   "metadata": {},
   "outputs": [
    {
     "data": {
      "text/plain": [
       "High order customer    30965686\n",
       "Low order customer      1440355\n",
       "Name: low_order_flag, dtype: int64"
      ]
     },
     "execution_count": 13,
     "metadata": {},
     "output_type": "execute_result"
    }
   ],
   "source": [
    "df_ords_prods_custm['low_order_flag'].value_counts(dropna = False)"
   ]
  },
  {
   "cell_type": "code",
   "execution_count": 14,
   "id": "bef4ac92",
   "metadata": {},
   "outputs": [],
   "source": [
    "#create high order customer subset\n",
    "df_high_order_customers = df_ords_prods_custm[df_ords_prods_custm['low_order_flag'] == 'High order customer']"
   ]
  },
  {
   "cell_type": "code",
   "execution_count": 15,
   "id": "4eef97aa",
   "metadata": {},
   "outputs": [],
   "source": [
    "#export high order customers \n",
    "df_high_order_customers.to_pickle(r'/Users/samuelcallender/Documents/ Instacart Basket Analysis/02 Data/Prepared Data/high_order_customers.pkl')"
   ]
  },
  {
   "cell_type": "markdown",
   "id": "b5557663",
   "metadata": {},
   "source": [
    "5. Customer Profiles"
   ]
  },
  {
   "cell_type": "code",
   "execution_count": 16,
   "id": "d85063a0",
   "metadata": {},
   "outputs": [
    {
     "data": {
      "text/html": [
       "<div>\n",
       "<style scoped>\n",
       "    .dataframe tbody tr th:only-of-type {\n",
       "        vertical-align: middle;\n",
       "    }\n",
       "\n",
       "    .dataframe tbody tr th {\n",
       "        vertical-align: top;\n",
       "    }\n",
       "\n",
       "    .dataframe thead th {\n",
       "        text-align: right;\n",
       "    }\n",
       "</style>\n",
       "<table border=\"1\" class=\"dataframe\">\n",
       "  <thead>\n",
       "    <tr style=\"text-align: right;\">\n",
       "      <th></th>\n",
       "      <th>Unnamed: 0.1</th>\n",
       "      <th>Unnamed: 0</th>\n",
       "      <th>order_id</th>\n",
       "      <th>order_number</th>\n",
       "      <th>order_day_of_week</th>\n",
       "      <th>order_hour_of_day</th>\n",
       "      <th>days_since_prior_order</th>\n",
       "      <th>product_id</th>\n",
       "      <th>add_to_cart_order</th>\n",
       "      <th>reordered</th>\n",
       "      <th>aisle_id</th>\n",
       "      <th>department_id</th>\n",
       "      <th>prices</th>\n",
       "      <th>max_order</th>\n",
       "      <th>average_price</th>\n",
       "      <th>median_prior_orders</th>\n",
       "      <th>age</th>\n",
       "      <th>number_dependants</th>\n",
       "      <th>income</th>\n",
       "    </tr>\n",
       "  </thead>\n",
       "  <tbody>\n",
       "    <tr>\n",
       "      <th>count</th>\n",
       "      <td>3.240604e+07</td>\n",
       "      <td>3.240604e+07</td>\n",
       "      <td>3.240604e+07</td>\n",
       "      <td>3.240604e+07</td>\n",
       "      <td>3.240604e+07</td>\n",
       "      <td>3.240604e+07</td>\n",
       "      <td>3.032984e+07</td>\n",
       "      <td>3.240604e+07</td>\n",
       "      <td>3.240604e+07</td>\n",
       "      <td>3.240604e+07</td>\n",
       "      <td>3.240604e+07</td>\n",
       "      <td>3.240604e+07</td>\n",
       "      <td>3.240604e+07</td>\n",
       "      <td>3.240604e+07</td>\n",
       "      <td>3.240604e+07</td>\n",
       "      <td>3.240604e+07</td>\n",
       "      <td>3.240604e+07</td>\n",
       "      <td>3.240604e+07</td>\n",
       "      <td>3.240604e+07</td>\n",
       "    </tr>\n",
       "    <tr>\n",
       "      <th>mean</th>\n",
       "      <td>1.709855e+06</td>\n",
       "      <td>1.709855e+06</td>\n",
       "      <td>1.710745e+06</td>\n",
       "      <td>1.714223e+01</td>\n",
       "      <td>2.738862e+00</td>\n",
       "      <td>1.342515e+01</td>\n",
       "      <td>1.110410e+01</td>\n",
       "      <td>2.559895e+04</td>\n",
       "      <td>8.352616e+00</td>\n",
       "      <td>5.895845e-01</td>\n",
       "      <td>7.119773e+01</td>\n",
       "      <td>9.919923e+00</td>\n",
       "      <td>1.198004e+01</td>\n",
       "      <td>3.305203e+01</td>\n",
       "      <td>1.198004e+01</td>\n",
       "      <td>1.039789e+01</td>\n",
       "      <td>4.946525e+01</td>\n",
       "      <td>1.501891e+00</td>\n",
       "      <td>9.943761e+04</td>\n",
       "    </tr>\n",
       "    <tr>\n",
       "      <th>std</th>\n",
       "      <td>9.864573e+05</td>\n",
       "      <td>9.864573e+05</td>\n",
       "      <td>9.872986e+05</td>\n",
       "      <td>1.753527e+01</td>\n",
       "      <td>2.090074e+00</td>\n",
       "      <td>4.246382e+00</td>\n",
       "      <td>8.779062e+00</td>\n",
       "      <td>1.408389e+04</td>\n",
       "      <td>7.127128e+00</td>\n",
       "      <td>4.919092e-01</td>\n",
       "      <td>3.821182e+01</td>\n",
       "      <td>6.281418e+00</td>\n",
       "      <td>4.956464e+02</td>\n",
       "      <td>2.515518e+01</td>\n",
       "      <td>8.324039e+01</td>\n",
       "      <td>7.131767e+00</td>\n",
       "      <td>1.848557e+01</td>\n",
       "      <td>1.118866e+00</td>\n",
       "      <td>4.305710e+04</td>\n",
       "    </tr>\n",
       "    <tr>\n",
       "      <th>min</th>\n",
       "      <td>0.000000e+00</td>\n",
       "      <td>0.000000e+00</td>\n",
       "      <td>2.000000e+00</td>\n",
       "      <td>1.000000e+00</td>\n",
       "      <td>0.000000e+00</td>\n",
       "      <td>0.000000e+00</td>\n",
       "      <td>0.000000e+00</td>\n",
       "      <td>1.000000e+00</td>\n",
       "      <td>1.000000e+00</td>\n",
       "      <td>0.000000e+00</td>\n",
       "      <td>1.000000e+00</td>\n",
       "      <td>1.000000e+00</td>\n",
       "      <td>1.000000e+00</td>\n",
       "      <td>1.000000e+00</td>\n",
       "      <td>1.000000e+00</td>\n",
       "      <td>0.000000e+00</td>\n",
       "      <td>1.800000e+01</td>\n",
       "      <td>0.000000e+00</td>\n",
       "      <td>2.590300e+04</td>\n",
       "    </tr>\n",
       "    <tr>\n",
       "      <th>25%</th>\n",
       "      <td>8.556360e+05</td>\n",
       "      <td>8.556360e+05</td>\n",
       "      <td>8.559480e+05</td>\n",
       "      <td>5.000000e+00</td>\n",
       "      <td>1.000000e+00</td>\n",
       "      <td>1.000000e+01</td>\n",
       "      <td>5.000000e+00</td>\n",
       "      <td>1.354400e+04</td>\n",
       "      <td>3.000000e+00</td>\n",
       "      <td>0.000000e+00</td>\n",
       "      <td>3.100000e+01</td>\n",
       "      <td>4.000000e+00</td>\n",
       "      <td>4.200000e+00</td>\n",
       "      <td>1.300000e+01</td>\n",
       "      <td>7.390000e+00</td>\n",
       "      <td>6.000000e+00</td>\n",
       "      <td>3.300000e+01</td>\n",
       "      <td>1.000000e+00</td>\n",
       "      <td>6.700200e+04</td>\n",
       "    </tr>\n",
       "    <tr>\n",
       "      <th>50%</th>\n",
       "      <td>1.709171e+06</td>\n",
       "      <td>1.709171e+06</td>\n",
       "      <td>1.711050e+06</td>\n",
       "      <td>1.100000e+01</td>\n",
       "      <td>3.000000e+00</td>\n",
       "      <td>1.300000e+01</td>\n",
       "      <td>8.000000e+00</td>\n",
       "      <td>2.530500e+04</td>\n",
       "      <td>6.000000e+00</td>\n",
       "      <td>1.000000e+00</td>\n",
       "      <td>8.300000e+01</td>\n",
       "      <td>9.000000e+00</td>\n",
       "      <td>7.400000e+00</td>\n",
       "      <td>2.600000e+01</td>\n",
       "      <td>7.820000e+00</td>\n",
       "      <td>8.000000e+00</td>\n",
       "      <td>4.900000e+01</td>\n",
       "      <td>2.000000e+00</td>\n",
       "      <td>9.661700e+04</td>\n",
       "    </tr>\n",
       "    <tr>\n",
       "      <th>75%</th>\n",
       "      <td>2.565906e+06</td>\n",
       "      <td>2.565906e+06</td>\n",
       "      <td>2.565497e+06</td>\n",
       "      <td>2.400000e+01</td>\n",
       "      <td>5.000000e+00</td>\n",
       "      <td>1.600000e+01</td>\n",
       "      <td>1.500000e+01</td>\n",
       "      <td>3.794700e+04</td>\n",
       "      <td>1.100000e+01</td>\n",
       "      <td>1.000000e+00</td>\n",
       "      <td>1.070000e+02</td>\n",
       "      <td>1.600000e+01</td>\n",
       "      <td>1.130000e+01</td>\n",
       "      <td>4.700000e+01</td>\n",
       "      <td>8.250000e+00</td>\n",
       "      <td>1.300000e+01</td>\n",
       "      <td>6.500000e+01</td>\n",
       "      <td>3.000000e+00</td>\n",
       "      <td>1.279120e+05</td>\n",
       "    </tr>\n",
       "    <tr>\n",
       "      <th>max</th>\n",
       "      <td>3.421081e+06</td>\n",
       "      <td>3.421081e+06</td>\n",
       "      <td>3.421083e+06</td>\n",
       "      <td>9.900000e+01</td>\n",
       "      <td>6.000000e+00</td>\n",
       "      <td>2.300000e+01</td>\n",
       "      <td>3.000000e+01</td>\n",
       "      <td>4.968800e+04</td>\n",
       "      <td>1.450000e+02</td>\n",
       "      <td>1.000000e+00</td>\n",
       "      <td>1.340000e+02</td>\n",
       "      <td>2.100000e+01</td>\n",
       "      <td>9.999900e+04</td>\n",
       "      <td>9.900000e+01</td>\n",
       "      <td>2.500542e+04</td>\n",
       "      <td>3.000000e+01</td>\n",
       "      <td>8.100000e+01</td>\n",
       "      <td>3.000000e+00</td>\n",
       "      <td>5.939010e+05</td>\n",
       "    </tr>\n",
       "  </tbody>\n",
       "</table>\n",
       "</div>"
      ],
      "text/plain": [
       "       Unnamed: 0.1    Unnamed: 0      order_id  order_number  \\\n",
       "count  3.240604e+07  3.240604e+07  3.240604e+07  3.240604e+07   \n",
       "mean   1.709855e+06  1.709855e+06  1.710745e+06  1.714223e+01   \n",
       "std    9.864573e+05  9.864573e+05  9.872986e+05  1.753527e+01   \n",
       "min    0.000000e+00  0.000000e+00  2.000000e+00  1.000000e+00   \n",
       "25%    8.556360e+05  8.556360e+05  8.559480e+05  5.000000e+00   \n",
       "50%    1.709171e+06  1.709171e+06  1.711050e+06  1.100000e+01   \n",
       "75%    2.565906e+06  2.565906e+06  2.565497e+06  2.400000e+01   \n",
       "max    3.421081e+06  3.421081e+06  3.421083e+06  9.900000e+01   \n",
       "\n",
       "       order_day_of_week  order_hour_of_day  days_since_prior_order  \\\n",
       "count       3.240604e+07       3.240604e+07            3.032984e+07   \n",
       "mean        2.738862e+00       1.342515e+01            1.110410e+01   \n",
       "std         2.090074e+00       4.246382e+00            8.779062e+00   \n",
       "min         0.000000e+00       0.000000e+00            0.000000e+00   \n",
       "25%         1.000000e+00       1.000000e+01            5.000000e+00   \n",
       "50%         3.000000e+00       1.300000e+01            8.000000e+00   \n",
       "75%         5.000000e+00       1.600000e+01            1.500000e+01   \n",
       "max         6.000000e+00       2.300000e+01            3.000000e+01   \n",
       "\n",
       "         product_id  add_to_cart_order     reordered      aisle_id  \\\n",
       "count  3.240604e+07       3.240604e+07  3.240604e+07  3.240604e+07   \n",
       "mean   2.559895e+04       8.352616e+00  5.895845e-01  7.119773e+01   \n",
       "std    1.408389e+04       7.127128e+00  4.919092e-01  3.821182e+01   \n",
       "min    1.000000e+00       1.000000e+00  0.000000e+00  1.000000e+00   \n",
       "25%    1.354400e+04       3.000000e+00  0.000000e+00  3.100000e+01   \n",
       "50%    2.530500e+04       6.000000e+00  1.000000e+00  8.300000e+01   \n",
       "75%    3.794700e+04       1.100000e+01  1.000000e+00  1.070000e+02   \n",
       "max    4.968800e+04       1.450000e+02  1.000000e+00  1.340000e+02   \n",
       "\n",
       "       department_id        prices     max_order  average_price  \\\n",
       "count   3.240604e+07  3.240604e+07  3.240604e+07   3.240604e+07   \n",
       "mean    9.919923e+00  1.198004e+01  3.305203e+01   1.198004e+01   \n",
       "std     6.281418e+00  4.956464e+02  2.515518e+01   8.324039e+01   \n",
       "min     1.000000e+00  1.000000e+00  1.000000e+00   1.000000e+00   \n",
       "25%     4.000000e+00  4.200000e+00  1.300000e+01   7.390000e+00   \n",
       "50%     9.000000e+00  7.400000e+00  2.600000e+01   7.820000e+00   \n",
       "75%     1.600000e+01  1.130000e+01  4.700000e+01   8.250000e+00   \n",
       "max     2.100000e+01  9.999900e+04  9.900000e+01   2.500542e+04   \n",
       "\n",
       "       median_prior_orders           age  number_dependants        income  \n",
       "count         3.240604e+07  3.240604e+07       3.240604e+07  3.240604e+07  \n",
       "mean          1.039789e+01  4.946525e+01       1.501891e+00  9.943761e+04  \n",
       "std           7.131767e+00  1.848557e+01       1.118866e+00  4.305710e+04  \n",
       "min           0.000000e+00  1.800000e+01       0.000000e+00  2.590300e+04  \n",
       "25%           6.000000e+00  3.300000e+01       1.000000e+00  6.700200e+04  \n",
       "50%           8.000000e+00  4.900000e+01       2.000000e+00  9.661700e+04  \n",
       "75%           1.300000e+01  6.500000e+01       3.000000e+00  1.279120e+05  \n",
       "max           3.000000e+01  8.100000e+01       3.000000e+00  5.939010e+05  "
      ]
     },
     "execution_count": 16,
     "metadata": {},
     "output_type": "execute_result"
    }
   ],
   "source": [
    "df_ords_prods_custm.describe()"
   ]
  },
  {
   "cell_type": "markdown",
   "id": "c09e05aa",
   "metadata": {},
   "source": [
    "Profiles of Age"
   ]
  },
  {
   "cell_type": "code",
   "execution_count": 17,
   "id": "1b2decaf",
   "metadata": {},
   "outputs": [
    {
     "data": {
      "text/plain": [
       "41-65    12647219\n",
       "18-40    11670466\n",
       "65+       8088356\n",
       "Name: age_profile, dtype: int64"
      ]
     },
     "execution_count": 17,
     "metadata": {},
     "output_type": "execute_result"
    }
   ],
   "source": [
    "df_ords_prods_custm.loc[(df_ords_prods_custm['age'] <= 40), 'age_profile'] = '18-40'\n",
    "df_ords_prods_custm.loc[(df_ords_prods_custm['age'] > 40) & (df_ords_prods_custm['age'] <= 65), 'age_profile'] = '41-65'\n",
    "df_ords_prods_custm.loc[(df_ords_prods_custm['age'] > 65), 'age_profile'] = '65+'\n",
    "df_ords_prods_custm['age_profile'].value_counts(dropna = False)"
   ]
  },
  {
   "cell_type": "code",
   "execution_count": 18,
   "id": "1f923769",
   "metadata": {},
   "outputs": [
    {
     "data": {
      "image/png": "[encoded data removed]",
      "text/plain": [
       "<Figure size 640x480 with 1 Axes>"
      ]
     },
     "metadata": {},
     "output_type": "display_data"
    }
   ],
   "source": [
    "#age pie chart\n",
    "age_profile_pie = df_ords_prods_custm['age_profile'].value_counts().plot.pie(title ='Age Profile', label = '', autopct=('%1.f%%'))"
   ]
  },
  {
   "cell_type": "code",
   "execution_count": 19,
   "id": "9d3e3495",
   "metadata": {},
   "outputs": [
    {
     "data": {
      "text/html": [
       "<div>\n",
       "<style scoped>\n",
       "    .dataframe tbody tr th:only-of-type {\n",
       "        vertical-align: middle;\n",
       "    }\n",
       "\n",
       "    .dataframe tbody tr th {\n",
       "        vertical-align: top;\n",
       "    }\n",
       "\n",
       "    .dataframe thead tr th {\n",
       "        text-align: left;\n",
       "    }\n",
       "\n",
       "    .dataframe thead tr:last-of-type th {\n",
       "        text-align: right;\n",
       "    }\n",
       "</style>\n",
       "<table border=\"1\" class=\"dataframe\">\n",
       "  <thead>\n",
       "    <tr>\n",
       "      <th></th>\n",
       "      <th colspan=\"3\" halign=\"left\">days_since_prior_order</th>\n",
       "      <th colspan=\"4\" halign=\"left\">prices</th>\n",
       "    </tr>\n",
       "    <tr>\n",
       "      <th></th>\n",
       "      <th>min</th>\n",
       "      <th>max</th>\n",
       "      <th>mean</th>\n",
       "      <th>min</th>\n",
       "      <th>max</th>\n",
       "      <th>mean</th>\n",
       "      <th>sum</th>\n",
       "    </tr>\n",
       "    <tr>\n",
       "      <th>age_profile</th>\n",
       "      <th></th>\n",
       "      <th></th>\n",
       "      <th></th>\n",
       "      <th></th>\n",
       "      <th></th>\n",
       "      <th></th>\n",
       "      <th></th>\n",
       "    </tr>\n",
       "  </thead>\n",
       "  <tbody>\n",
       "    <tr>\n",
       "      <th>18-40</th>\n",
       "      <td>0.0</td>\n",
       "      <td>30.0</td>\n",
       "      <td>11.109811</td>\n",
       "      <td>1.0</td>\n",
       "      <td>99999.0</td>\n",
       "      <td>12.084851</td>\n",
       "      <td>141035848.0</td>\n",
       "    </tr>\n",
       "    <tr>\n",
       "      <th>41-65</th>\n",
       "      <td>0.0</td>\n",
       "      <td>30.0</td>\n",
       "      <td>11.113635</td>\n",
       "      <td>1.0</td>\n",
       "      <td>99999.0</td>\n",
       "      <td>11.973952</td>\n",
       "      <td>151437189.4</td>\n",
       "    </tr>\n",
       "    <tr>\n",
       "      <th>65+</th>\n",
       "      <td>0.0</td>\n",
       "      <td>30.0</td>\n",
       "      <td>11.080953</td>\n",
       "      <td>1.0</td>\n",
       "      <td>99999.0</td>\n",
       "      <td>11.838332</td>\n",
       "      <td>95752641.6</td>\n",
       "    </tr>\n",
       "  </tbody>\n",
       "</table>\n",
       "</div>"
      ],
      "text/plain": [
       "            days_since_prior_order                  prices           \\\n",
       "                               min   max       mean    min      max   \n",
       "age_profile                                                           \n",
       "18-40                          0.0  30.0  11.109811    1.0  99999.0   \n",
       "41-65                          0.0  30.0  11.113635    1.0  99999.0   \n",
       "65+                            0.0  30.0  11.080953    1.0  99999.0   \n",
       "\n",
       "                                     \n",
       "                  mean          sum  \n",
       "age_profile                          \n",
       "18-40        12.084851  141035848.0  \n",
       "41-65        11.973952  151437189.4  \n",
       "65+          11.838332   95752641.6  "
      ]
     },
     "execution_count": 19,
     "metadata": {},
     "output_type": "execute_result"
    }
   ],
   "source": [
    "#Age statistics\n",
    "age_sums = df_ords_prods_custm.groupby(['age_profile']).agg({'days_since_prior_order' : ['min', 'max', 'mean'], 'prices' : ['min', 'max', 'mean', 'sum']})\n",
    "age_sums"
   ]
  },
  {
   "cell_type": "markdown",
   "id": "9cdf3fe8",
   "metadata": {},
   "source": [
    "Customers in all age profiles have roughly 11 days in between their orders."
   ]
  },
  {
   "cell_type": "code",
   "execution_count": 20,
   "id": "0506384d",
   "metadata": {},
   "outputs": [],
   "source": [
    "#crosstab between ages and regions\n",
    "crosstab_region_age = pd.crosstab(df_ords_prods_custm['region'], df_ords_prods_custm['age_profile'], dropna = False)"
   ]
  },
  {
   "cell_type": "code",
   "execution_count": 24,
   "id": "09c0df6b",
   "metadata": {},
   "outputs": [
    {
     "data": {
      "image/png": "[encoded data removed]",
      "text/plain": [
       "<Figure size 640x480 with 1 Axes>"
      ]
     },
     "metadata": {},
     "output_type": "display_data"
    }
   ],
   "source": [
    "#create a stacked bar chart\n",
    "region_age = crosstab_region_age.plot(kind = 'barh', color = sns.color_palette('Blues', 3))\n",
    "plt.legend(loc='lower right')\n",
    "plt.ylabel('Regions', fontweight = 'bold')\n",
    "plt.title('Age Profiles by Region', fontweight = 'bold')\n",
    "plt.show()"
   ]
  },
  {
   "cell_type": "code",
   "execution_count": 25,
   "id": "c48ee6c1",
   "metadata": {},
   "outputs": [],
   "source": [
    "#import department dataframe\n",
    "df_dep_t_new = pd.read_csv(r'/Users/samuelcallender/Documents/ Instacart Basket Analysis/02 Data/Prepared Data/departments_wrangled.csv')"
   ]
  },
  {
   "cell_type": "code",
   "execution_count": 26,
   "id": "58183b9f",
   "metadata": {},
   "outputs": [
    {
     "data": {
      "text/html": [
       "<div>\n",
       "<style scoped>\n",
       "    .dataframe tbody tr th:only-of-type {\n",
       "        vertical-align: middle;\n",
       "    }\n",
       "\n",
       "    .dataframe tbody tr th {\n",
       "        vertical-align: top;\n",
       "    }\n",
       "\n",
       "    .dataframe thead th {\n",
       "        text-align: right;\n",
       "    }\n",
       "</style>\n",
       "<table border=\"1\" class=\"dataframe\">\n",
       "  <thead>\n",
       "    <tr style=\"text-align: right;\">\n",
       "      <th></th>\n",
       "      <th>department_id</th>\n",
       "      <th>department</th>\n",
       "    </tr>\n",
       "  </thead>\n",
       "  <tbody>\n",
       "    <tr>\n",
       "      <th>0</th>\n",
       "      <td>1</td>\n",
       "      <td>frozen</td>\n",
       "    </tr>\n",
       "    <tr>\n",
       "      <th>1</th>\n",
       "      <td>2</td>\n",
       "      <td>other</td>\n",
       "    </tr>\n",
       "    <tr>\n",
       "      <th>2</th>\n",
       "      <td>3</td>\n",
       "      <td>bakery</td>\n",
       "    </tr>\n",
       "    <tr>\n",
       "      <th>3</th>\n",
       "      <td>4</td>\n",
       "      <td>produce</td>\n",
       "    </tr>\n",
       "    <tr>\n",
       "      <th>4</th>\n",
       "      <td>5</td>\n",
       "      <td>alcohol</td>\n",
       "    </tr>\n",
       "    <tr>\n",
       "      <th>5</th>\n",
       "      <td>6</td>\n",
       "      <td>international</td>\n",
       "    </tr>\n",
       "    <tr>\n",
       "      <th>6</th>\n",
       "      <td>7</td>\n",
       "      <td>beverages</td>\n",
       "    </tr>\n",
       "    <tr>\n",
       "      <th>7</th>\n",
       "      <td>8</td>\n",
       "      <td>pets</td>\n",
       "    </tr>\n",
       "    <tr>\n",
       "      <th>8</th>\n",
       "      <td>9</td>\n",
       "      <td>dry goods pasta</td>\n",
       "    </tr>\n",
       "    <tr>\n",
       "      <th>9</th>\n",
       "      <td>10</td>\n",
       "      <td>bulk</td>\n",
       "    </tr>\n",
       "    <tr>\n",
       "      <th>10</th>\n",
       "      <td>11</td>\n",
       "      <td>personal care</td>\n",
       "    </tr>\n",
       "    <tr>\n",
       "      <th>11</th>\n",
       "      <td>12</td>\n",
       "      <td>meat seafood</td>\n",
       "    </tr>\n",
       "    <tr>\n",
       "      <th>12</th>\n",
       "      <td>13</td>\n",
       "      <td>pantry</td>\n",
       "    </tr>\n",
       "    <tr>\n",
       "      <th>13</th>\n",
       "      <td>14</td>\n",
       "      <td>breakfast</td>\n",
       "    </tr>\n",
       "    <tr>\n",
       "      <th>14</th>\n",
       "      <td>15</td>\n",
       "      <td>canned goods</td>\n",
       "    </tr>\n",
       "    <tr>\n",
       "      <th>15</th>\n",
       "      <td>16</td>\n",
       "      <td>dairy eggs</td>\n",
       "    </tr>\n",
       "    <tr>\n",
       "      <th>16</th>\n",
       "      <td>17</td>\n",
       "      <td>household</td>\n",
       "    </tr>\n",
       "    <tr>\n",
       "      <th>17</th>\n",
       "      <td>18</td>\n",
       "      <td>babies</td>\n",
       "    </tr>\n",
       "    <tr>\n",
       "      <th>18</th>\n",
       "      <td>19</td>\n",
       "      <td>snacks</td>\n",
       "    </tr>\n",
       "    <tr>\n",
       "      <th>19</th>\n",
       "      <td>20</td>\n",
       "      <td>deli</td>\n",
       "    </tr>\n",
       "    <tr>\n",
       "      <th>20</th>\n",
       "      <td>21</td>\n",
       "      <td>missing</td>\n",
       "    </tr>\n",
       "  </tbody>\n",
       "</table>\n",
       "</div>"
      ],
      "text/plain": [
       "    department_id       department\n",
       "0               1           frozen\n",
       "1               2            other\n",
       "2               3           bakery\n",
       "3               4          produce\n",
       "4               5          alcohol\n",
       "5               6    international\n",
       "6               7        beverages\n",
       "7               8             pets\n",
       "8               9  dry goods pasta\n",
       "9              10             bulk\n",
       "10             11    personal care\n",
       "11             12     meat seafood\n",
       "12             13           pantry\n",
       "13             14        breakfast\n",
       "14             15     canned goods\n",
       "15             16       dairy eggs\n",
       "16             17        household\n",
       "17             18           babies\n",
       "18             19           snacks\n",
       "19             20             deli\n",
       "20             21          missing"
      ]
     },
     "execution_count": 26,
     "metadata": {},
     "output_type": "execute_result"
    }
   ],
   "source": [
    "df_dep_t_new.rename(columns = {'Unnamed: 0' : 'department_id'}, inplace = True)\n",
    "df_dep_t_new"
   ]
  },
  {
   "cell_type": "code",
   "execution_count": 27,
   "id": "9943bf65",
   "metadata": {},
   "outputs": [],
   "source": [
    "#merge departments dataframe with df_ords_prods_custm dataframe\n",
    "df_all = df_ords_prods_custm.merge(df_dep_t_new, on = 'department_id')"
   ]
  },
  {
   "cell_type": "code",
   "execution_count": 28,
   "id": "cb542722",
   "metadata": {},
   "outputs": [
    {
     "data": {
      "text/html": [
       "<div>\n",
       "<style scoped>\n",
       "    .dataframe tbody tr th:only-of-type {\n",
       "        vertical-align: middle;\n",
       "    }\n",
       "\n",
       "    .dataframe tbody tr th {\n",
       "        vertical-align: top;\n",
       "    }\n",
       "\n",
       "    .dataframe thead th {\n",
       "        text-align: right;\n",
       "    }\n",
       "</style>\n",
       "<table border=\"1\" class=\"dataframe\">\n",
       "  <thead>\n",
       "    <tr style=\"text-align: right;\">\n",
       "      <th></th>\n",
       "      <th>Unnamed: 0.1</th>\n",
       "      <th>Unnamed: 0</th>\n",
       "      <th>order_id</th>\n",
       "      <th>user_id</th>\n",
       "      <th>eval_set</th>\n",
       "      <th>order_number</th>\n",
       "      <th>order_day_of_week</th>\n",
       "      <th>order_hour_of_day</th>\n",
       "      <th>days_since_prior_order</th>\n",
       "      <th>product_id</th>\n",
       "      <th>...</th>\n",
       "      <th>state</th>\n",
       "      <th>age</th>\n",
       "      <th>date_joined</th>\n",
       "      <th>number_dependants</th>\n",
       "      <th>family_status</th>\n",
       "      <th>income</th>\n",
       "      <th>region</th>\n",
       "      <th>low_order_flag</th>\n",
       "      <th>age_profile</th>\n",
       "      <th>department</th>\n",
       "    </tr>\n",
       "  </thead>\n",
       "  <tbody>\n",
       "    <tr>\n",
       "      <th>0</th>\n",
       "      <td>0</td>\n",
       "      <td>0</td>\n",
       "      <td>2539329</td>\n",
       "      <td>1</td>\n",
       "      <td>prior</td>\n",
       "      <td>1</td>\n",
       "      <td>2</td>\n",
       "      <td>8</td>\n",
       "      <td>NaN</td>\n",
       "      <td>196</td>\n",
       "      <td>...</td>\n",
       "      <td>Alabama</td>\n",
       "      <td>31</td>\n",
       "      <td>2/17/2019</td>\n",
       "      <td>3</td>\n",
       "      <td>married</td>\n",
       "      <td>40423</td>\n",
       "      <td>South</td>\n",
       "      <td>High order customer</td>\n",
       "      <td>18-40</td>\n",
       "      <td>beverages</td>\n",
       "    </tr>\n",
       "    <tr>\n",
       "      <th>1</th>\n",
       "      <td>1</td>\n",
       "      <td>1</td>\n",
       "      <td>2398795</td>\n",
       "      <td>1</td>\n",
       "      <td>prior</td>\n",
       "      <td>2</td>\n",
       "      <td>3</td>\n",
       "      <td>7</td>\n",
       "      <td>15.0</td>\n",
       "      <td>196</td>\n",
       "      <td>...</td>\n",
       "      <td>Alabama</td>\n",
       "      <td>31</td>\n",
       "      <td>2/17/2019</td>\n",
       "      <td>3</td>\n",
       "      <td>married</td>\n",
       "      <td>40423</td>\n",
       "      <td>South</td>\n",
       "      <td>High order customer</td>\n",
       "      <td>18-40</td>\n",
       "      <td>beverages</td>\n",
       "    </tr>\n",
       "    <tr>\n",
       "      <th>2</th>\n",
       "      <td>2</td>\n",
       "      <td>2</td>\n",
       "      <td>473747</td>\n",
       "      <td>1</td>\n",
       "      <td>prior</td>\n",
       "      <td>3</td>\n",
       "      <td>3</td>\n",
       "      <td>12</td>\n",
       "      <td>21.0</td>\n",
       "      <td>196</td>\n",
       "      <td>...</td>\n",
       "      <td>Alabama</td>\n",
       "      <td>31</td>\n",
       "      <td>2/17/2019</td>\n",
       "      <td>3</td>\n",
       "      <td>married</td>\n",
       "      <td>40423</td>\n",
       "      <td>South</td>\n",
       "      <td>High order customer</td>\n",
       "      <td>18-40</td>\n",
       "      <td>beverages</td>\n",
       "    </tr>\n",
       "    <tr>\n",
       "      <th>3</th>\n",
       "      <td>3</td>\n",
       "      <td>3</td>\n",
       "      <td>2254736</td>\n",
       "      <td>1</td>\n",
       "      <td>prior</td>\n",
       "      <td>4</td>\n",
       "      <td>4</td>\n",
       "      <td>7</td>\n",
       "      <td>29.0</td>\n",
       "      <td>196</td>\n",
       "      <td>...</td>\n",
       "      <td>Alabama</td>\n",
       "      <td>31</td>\n",
       "      <td>2/17/2019</td>\n",
       "      <td>3</td>\n",
       "      <td>married</td>\n",
       "      <td>40423</td>\n",
       "      <td>South</td>\n",
       "      <td>High order customer</td>\n",
       "      <td>18-40</td>\n",
       "      <td>beverages</td>\n",
       "    </tr>\n",
       "    <tr>\n",
       "      <th>4</th>\n",
       "      <td>4</td>\n",
       "      <td>4</td>\n",
       "      <td>431534</td>\n",
       "      <td>1</td>\n",
       "      <td>prior</td>\n",
       "      <td>5</td>\n",
       "      <td>4</td>\n",
       "      <td>15</td>\n",
       "      <td>28.0</td>\n",
       "      <td>196</td>\n",
       "      <td>...</td>\n",
       "      <td>Alabama</td>\n",
       "      <td>31</td>\n",
       "      <td>2/17/2019</td>\n",
       "      <td>3</td>\n",
       "      <td>married</td>\n",
       "      <td>40423</td>\n",
       "      <td>South</td>\n",
       "      <td>High order customer</td>\n",
       "      <td>18-40</td>\n",
       "      <td>beverages</td>\n",
       "    </tr>\n",
       "  </tbody>\n",
       "</table>\n",
       "<p>5 rows × 38 columns</p>\n",
       "</div>"
      ],
      "text/plain": [
       "   Unnamed: 0.1  Unnamed: 0  order_id user_id eval_set  order_number  \\\n",
       "0             0           0   2539329       1    prior             1   \n",
       "1             1           1   2398795       1    prior             2   \n",
       "2             2           2    473747       1    prior             3   \n",
       "3             3           3   2254736       1    prior             4   \n",
       "4             4           4    431534       1    prior             5   \n",
       "\n",
       "   order_day_of_week  order_hour_of_day  days_since_prior_order  product_id  \\\n",
       "0                  2                  8                     NaN         196   \n",
       "1                  3                  7                    15.0         196   \n",
       "2                  3                 12                    21.0         196   \n",
       "3                  4                  7                    29.0         196   \n",
       "4                  4                 15                    28.0         196   \n",
       "\n",
       "   ...    state  age date_joined  number_dependants  family_status  income  \\\n",
       "0  ...  Alabama   31   2/17/2019                  3        married   40423   \n",
       "1  ...  Alabama   31   2/17/2019                  3        married   40423   \n",
       "2  ...  Alabama   31   2/17/2019                  3        married   40423   \n",
       "3  ...  Alabama   31   2/17/2019                  3        married   40423   \n",
       "4  ...  Alabama   31   2/17/2019                  3        married   40423   \n",
       "\n",
       "  region       low_order_flag age_profile department  \n",
       "0  South  High order customer       18-40  beverages  \n",
       "1  South  High order customer       18-40  beverages  \n",
       "2  South  High order customer       18-40  beverages  \n",
       "3  South  High order customer       18-40  beverages  \n",
       "4  South  High order customer       18-40  beverages  \n",
       "\n",
       "[5 rows x 38 columns]"
      ]
     },
     "execution_count": 28,
     "metadata": {},
     "output_type": "execute_result"
    }
   ],
   "source": [
    "df_all.head()"
   ]
  },
  {
   "cell_type": "code",
   "execution_count": 29,
   "id": "596e26e6",
   "metadata": {},
   "outputs": [],
   "source": [
    "#create crosstab of age and department\n",
    "crosstab_dept_age = pd.crosstab(df_all['department'], df_all['age_profile'], dropna = False)"
   ]
  },
  {
   "cell_type": "code",
   "execution_count": 30,
   "id": "ded31195",
   "metadata": {},
   "outputs": [
    {
     "data": {
      "image/png": "[encoded data removed]",
      "text/plain": [
       "<Figure size 640x480 with 1 Axes>"
      ]
     },
     "metadata": {},
     "output_type": "display_data"
    }
   ],
   "source": [
    "#stacked bar chart of age group and department\n",
    "dept_age = crosstab_dept_age.plot(kind = 'barh', stacked = True, color = sns.color_palette('Blues', 3))\n",
    "plt.legend(loc='lower right')\n",
    "plt.ylabel('Department', fontweight = 'bold')\n",
    "plt.title('Age Profile by Department', fontweight = 'bold')\n",
    "plt.show()"
   ]
  },
  {
   "cell_type": "markdown",
   "id": "c8202077",
   "metadata": {},
   "source": [
    "Produce, dairy, and snacks are the top three departments across all age groups. "
   ]
  },
  {
   "cell_type": "markdown",
   "id": "8bd1c3e1",
   "metadata": {},
   "source": [
    "Income Profiles"
   ]
  },
  {
   "cell_type": "code",
   "execution_count": 31,
   "id": "5764b248",
   "metadata": {},
   "outputs": [
    {
     "data": {
      "text/plain": [
       "50k - 150k    24760846\n",
       "150k+          4050974\n",
       "<=50k          3594221\n",
       "Name: income_profile, dtype: int64"
      ]
     },
     "execution_count": 31,
     "metadata": {},
     "output_type": "execute_result"
    }
   ],
   "source": [
    "df_all.loc[(df_all['income'] <= 50000), 'income_profile'] = '<=50k'\n",
    "df_all.loc[(df_all['income'] > 50000) & (df_all['income'] <= 150000), 'income_profile'] = '50k - 150k'\n",
    "df_all.loc[(df_all['income'] > 150000), 'income_profile'] = '150k+'\n",
    "df_all['income_profile'].value_counts(dropna = False)"
   ]
  },
  {
   "cell_type": "code",
   "execution_count": 33,
   "id": "07c2de90",
   "metadata": {},
   "outputs": [
    {
     "data": {
      "image/png": "[encoded data removed]",
      "text/plain": [
       "<Figure size 640x480 with 1 Axes>"
      ]
     },
     "metadata": {},
     "output_type": "display_data"
    }
   ],
   "source": [
    "#income profile pie chart\n",
    "income_profile_pie = df_all['income_profile'].value_counts().plot.pie(title ='Income Profile Chart', label = '', autopct=('%1.f%%'))"
   ]
  },
  {
   "cell_type": "markdown",
   "id": "b383ad33",
   "metadata": {},
   "source": [
    "Customers in the 50k-150k income group represent the majority."
   ]
  },
  {
   "cell_type": "code",
   "execution_count": 34,
   "id": "1e9c4c1d",
   "metadata": {},
   "outputs": [
    {
     "data": {
      "text/html": [
       "<div>\n",
       "<style scoped>\n",
       "    .dataframe tbody tr th:only-of-type {\n",
       "        vertical-align: middle;\n",
       "    }\n",
       "\n",
       "    .dataframe tbody tr th {\n",
       "        vertical-align: top;\n",
       "    }\n",
       "\n",
       "    .dataframe thead tr th {\n",
       "        text-align: left;\n",
       "    }\n",
       "\n",
       "    .dataframe thead tr:last-of-type th {\n",
       "        text-align: right;\n",
       "    }\n",
       "</style>\n",
       "<table border=\"1\" class=\"dataframe\">\n",
       "  <thead>\n",
       "    <tr>\n",
       "      <th></th>\n",
       "      <th colspan=\"3\" halign=\"left\">days_since_prior_order</th>\n",
       "      <th colspan=\"4\" halign=\"left\">prices</th>\n",
       "    </tr>\n",
       "    <tr>\n",
       "      <th></th>\n",
       "      <th>min</th>\n",
       "      <th>max</th>\n",
       "      <th>mean</th>\n",
       "      <th>min</th>\n",
       "      <th>max</th>\n",
       "      <th>mean</th>\n",
       "      <th>sum</th>\n",
       "    </tr>\n",
       "    <tr>\n",
       "      <th>income_profile</th>\n",
       "      <th></th>\n",
       "      <th></th>\n",
       "      <th></th>\n",
       "      <th></th>\n",
       "      <th></th>\n",
       "      <th></th>\n",
       "      <th></th>\n",
       "    </tr>\n",
       "  </thead>\n",
       "  <tbody>\n",
       "    <tr>\n",
       "      <th>150k+</th>\n",
       "      <td>0.0</td>\n",
       "      <td>30.0</td>\n",
       "      <td>10.941426</td>\n",
       "      <td>1.0</td>\n",
       "      <td>99999.0</td>\n",
       "      <td>32.893657</td>\n",
       "      <td>133251350.5</td>\n",
       "    </tr>\n",
       "    <tr>\n",
       "      <th>50k - 150k</th>\n",
       "      <td>0.0</td>\n",
       "      <td>30.0</td>\n",
       "      <td>11.061366</td>\n",
       "      <td>1.0</td>\n",
       "      <td>99999.0</td>\n",
       "      <td>9.325363</td>\n",
       "      <td>230903881.2</td>\n",
       "    </tr>\n",
       "    <tr>\n",
       "      <th>&lt;=50k</th>\n",
       "      <td>0.0</td>\n",
       "      <td>30.0</td>\n",
       "      <td>11.587215</td>\n",
       "      <td>1.0</td>\n",
       "      <td>25.0</td>\n",
       "      <td>6.696986</td>\n",
       "      <td>24070447.3</td>\n",
       "    </tr>\n",
       "  </tbody>\n",
       "</table>\n",
       "</div>"
      ],
      "text/plain": [
       "               days_since_prior_order                  prices           \\\n",
       "                                  min   max       mean    min      max   \n",
       "income_profile                                                           \n",
       "150k+                             0.0  30.0  10.941426    1.0  99999.0   \n",
       "50k - 150k                        0.0  30.0  11.061366    1.0  99999.0   \n",
       "<=50k                             0.0  30.0  11.587215    1.0     25.0   \n",
       "\n",
       "                                        \n",
       "                     mean          sum  \n",
       "income_profile                          \n",
       "150k+           32.893657  133251350.5  \n",
       "50k - 150k       9.325363  230903881.2  \n",
       "<=50k            6.696986   24070447.3  "
      ]
     },
     "execution_count": 34,
     "metadata": {},
     "output_type": "execute_result"
    }
   ],
   "source": [
    "#income statistics\n",
    "income_sums = df_all.groupby(['income_profile']).agg({'days_since_prior_order' : ['min', 'max', 'mean'], 'prices' : ['min', 'max', 'mean', 'sum']})\n",
    "income_sums"
   ]
  },
  {
   "cell_type": "markdown",
   "id": "3398ddb8",
   "metadata": {},
   "source": [
    "Main takeaway is that customers from the 50k-150k income profile represent the highest revenue for Instacart."
   ]
  },
  {
   "cell_type": "code",
   "execution_count": 35,
   "id": "a7fd84d5",
   "metadata": {},
   "outputs": [],
   "source": [
    "#create crosstab of regions and income grouos\n",
    "crosstab_region_income = pd.crosstab(df_all['region'], df_all['income_profile'], dropna = False)"
   ]
  },
  {
   "cell_type": "code",
   "execution_count": 36,
   "id": "b6bf4af7",
   "metadata": {},
   "outputs": [
    {
     "data": {
      "image/png": "[encoded data removed]",
      "text/plain": [
       "<Figure size 640x480 with 1 Axes>"
      ]
     },
     "metadata": {},
     "output_type": "display_data"
    }
   ],
   "source": [
    "#bar chart of the regions broken down by income groups\n",
    "region_income = crosstab_region_income.plot(kind = 'barh', color = sns.color_palette('Blues', 3))\n",
    "plt.legend(loc='lower right')\n",
    "plt.ylabel('Regions', fontweight = 'bold')\n",
    "plt.title('Income Profile by Region', fontweight = 'bold')\n",
    "plt.show()"
   ]
  },
  {
   "cell_type": "code",
   "execution_count": 37,
   "id": "fd454a33",
   "metadata": {},
   "outputs": [],
   "source": [
    "#create a crosstab of department and income groups\n",
    "crosstab_dept_income = pd.crosstab(df_all['department'], df_all['income_profile'], dropna = False)"
   ]
  },
  {
   "cell_type": "code",
   "execution_count": 38,
   "id": "940a9542",
   "metadata": {},
   "outputs": [
    {
     "data": {
      "image/png": "[encoded data removed]",
      "text/plain": [
       "<Figure size 640x480 with 1 Axes>"
      ]
     },
     "metadata": {},
     "output_type": "display_data"
    }
   ],
   "source": [
    "#stacked bar chart of department broken down by income group\n",
    "dept_income = crosstab_dept_income.plot(kind = 'barh', stacked = True, color = sns.color_palette('Blues', 3))\n",
    "plt.legend(loc='lower right')\n",
    "plt.ylabel('Department', fontweight = 'bold')\n",
    "plt.title('Income Profile by Department', fontweight = 'bold')\n",
    "plt.show()"
   ]
  },
  {
   "cell_type": "markdown",
   "id": "780586b0",
   "metadata": {},
   "source": [
    "Produce and dairy are the top two departments across the income profiles."
   ]
  },
  {
   "cell_type": "markdown",
   "id": "d6305448",
   "metadata": {},
   "source": [
    "Family Status Profiles"
   ]
  },
  {
   "cell_type": "code",
   "execution_count": 40,
   "id": "18201456",
   "metadata": {},
   "outputs": [
    {
     "data": {
      "text/plain": [
       "Family          24308182\n",
       "Single Adult     8097859\n",
       "Name: family_profile, dtype: int64"
      ]
     },
     "execution_count": 40,
     "metadata": {},
     "output_type": "execute_result"
    }
   ],
   "source": [
    "df_all.loc[(df_all['number_dependants'] == 0), 'family_profile'] = 'Single Adult'\n",
    "df_all.loc[(df_all['number_dependants'] != 0), 'family_profile'] = 'Family'\n",
    "df_all['family_profile'].value_counts(dropna = False)"
   ]
  },
  {
   "cell_type": "code",
   "execution_count": 41,
   "id": "8031f663",
   "metadata": {},
   "outputs": [
    {
     "data": {
      "image/png": "[encoded data removed]",
      "text/plain": [
       "<Figure size 640x480 with 1 Axes>"
      ]
     },
     "metadata": {},
     "output_type": "display_data"
    }
   ],
   "source": [
    "#Family status pie chart\n",
    "family_profile_pie = df_all['family_profile'].value_counts().plot.pie(title = 'Family Profile Chart', label = '', autopct = ('%1.f%%'))"
   ]
  },
  {
   "cell_type": "markdown",
   "id": "3c07a16d",
   "metadata": {},
   "source": [
    "Customers with families represent the highest proportion of customers."
   ]
  },
  {
   "cell_type": "code",
   "execution_count": 42,
   "id": "05e6fc8e",
   "metadata": {},
   "outputs": [
    {
     "data": {
      "text/html": [
       "<div>\n",
       "<style scoped>\n",
       "    .dataframe tbody tr th:only-of-type {\n",
       "        vertical-align: middle;\n",
       "    }\n",
       "\n",
       "    .dataframe tbody tr th {\n",
       "        vertical-align: top;\n",
       "    }\n",
       "\n",
       "    .dataframe thead tr th {\n",
       "        text-align: left;\n",
       "    }\n",
       "\n",
       "    .dataframe thead tr:last-of-type th {\n",
       "        text-align: right;\n",
       "    }\n",
       "</style>\n",
       "<table border=\"1\" class=\"dataframe\">\n",
       "  <thead>\n",
       "    <tr>\n",
       "      <th></th>\n",
       "      <th colspan=\"3\" halign=\"left\">days_since_prior_order</th>\n",
       "      <th colspan=\"4\" halign=\"left\">prices</th>\n",
       "    </tr>\n",
       "    <tr>\n",
       "      <th></th>\n",
       "      <th>min</th>\n",
       "      <th>max</th>\n",
       "      <th>mean</th>\n",
       "      <th>min</th>\n",
       "      <th>max</th>\n",
       "      <th>mean</th>\n",
       "      <th>sum</th>\n",
       "    </tr>\n",
       "    <tr>\n",
       "      <th>family_profile</th>\n",
       "      <th></th>\n",
       "      <th></th>\n",
       "      <th></th>\n",
       "      <th></th>\n",
       "      <th></th>\n",
       "      <th></th>\n",
       "      <th></th>\n",
       "    </tr>\n",
       "  </thead>\n",
       "  <tbody>\n",
       "    <tr>\n",
       "      <th>Family</th>\n",
       "      <td>0.0</td>\n",
       "      <td>30.0</td>\n",
       "      <td>11.111857</td>\n",
       "      <td>1.0</td>\n",
       "      <td>99999.0</td>\n",
       "      <td>11.930410</td>\n",
       "      <td>290006572.0</td>\n",
       "    </tr>\n",
       "    <tr>\n",
       "      <th>Single Adult</th>\n",
       "      <td>0.0</td>\n",
       "      <td>30.0</td>\n",
       "      <td>11.080822</td>\n",
       "      <td>1.0</td>\n",
       "      <td>99999.0</td>\n",
       "      <td>12.129022</td>\n",
       "      <td>98219107.0</td>\n",
       "    </tr>\n",
       "  </tbody>\n",
       "</table>\n",
       "</div>"
      ],
      "text/plain": [
       "               days_since_prior_order                  prices           \\\n",
       "                                  min   max       mean    min      max   \n",
       "family_profile                                                           \n",
       "Family                            0.0  30.0  11.111857    1.0  99999.0   \n",
       "Single Adult                      0.0  30.0  11.080822    1.0  99999.0   \n",
       "\n",
       "                                        \n",
       "                     mean          sum  \n",
       "family_profile                          \n",
       "Family          11.930410  290006572.0  \n",
       "Single Adult    12.129022   98219107.0  "
      ]
     },
     "execution_count": 42,
     "metadata": {},
     "output_type": "execute_result"
    }
   ],
   "source": [
    "#family status statistics\n",
    "family_sums = df_all.groupby(['family_profile']).agg({'days_since_prior_order' : ['min', 'max', 'mean'], 'prices' : ['min', 'max', 'mean', 'sum']})\n",
    "family_sums"
   ]
  },
  {
   "cell_type": "markdown",
   "id": "4a485f65",
   "metadata": {},
   "source": [
    "Customers with families represent the highest revenue for Instacart. Again, the days since the last order is 11. "
   ]
  },
  {
   "cell_type": "code",
   "execution_count": 43,
   "id": "89f8dda8",
   "metadata": {},
   "outputs": [],
   "source": [
    "#Crosstab of families and regions\n",
    "crosstab_region_family = pd.crosstab(df_all['region'], df_all['family_profile'], dropna = False)"
   ]
  },
  {
   "cell_type": "code",
   "execution_count": 44,
   "id": "a3347835",
   "metadata": {},
   "outputs": [
    {
     "data": {
      "image/png": "[encoded data removed]",
      "text/plain": [
       "<Figure size 640x480 with 1 Axes>"
      ]
     },
     "metadata": {},
     "output_type": "display_data"
    }
   ],
   "source": [
    "#Stacked bar chart of family groups across the regions\n",
    "region_family = crosstab_region_family.plot(kind = 'barh', color = sns.color_palette('Blues', 2))\n",
    "plt.legend(loc='lower right')\n",
    "plt.ylabel('Regions', fontweight = 'bold')\n",
    "plt.title('Family Profile by Region', fontweight = 'bold')\n",
    "plt.show()"
   ]
  },
  {
   "cell_type": "markdown",
   "id": "004e9d76",
   "metadata": {},
   "source": [
    "The south regions has the highest number of customers in the family profile."
   ]
  },
  {
   "cell_type": "code",
   "execution_count": 45,
   "id": "68fdcad5",
   "metadata": {},
   "outputs": [],
   "source": [
    "#crosstab of family profile and department\n",
    "crosstab_dept_family = pd.crosstab(df_all['department'], df_all['family_profile'], dropna = False)"
   ]
  },
  {
   "cell_type": "code",
   "execution_count": 46,
   "id": "8f2428f4",
   "metadata": {},
   "outputs": [
    {
     "data": {
      "image/png": "[encoded data removed]",
      "text/plain": [
       "<Figure size 640x480 with 1 Axes>"
      ]
     },
     "metadata": {},
     "output_type": "display_data"
    }
   ],
   "source": [
    "#stacked bar chart of family profiles by department\n",
    "dept_family = crosstab_dept_family.plot(kind = 'barh', stacked = True, color = sns.color_palette('Blues', 2))\n",
    "plt.legend(loc='lower right')\n",
    "plt.ylabel('Department', fontweight = 'bold')\n",
    "plt.title('Family Profile by Department', fontweight = 'bold')\n",
    "plt.show()"
   ]
  },
  {
   "cell_type": "markdown",
   "id": "e5924b4e",
   "metadata": {},
   "source": [
    "Customers with families represents the most purchases in the produce and dairy departments."
   ]
  },
  {
   "cell_type": "markdown",
   "id": "8a64a546",
   "metadata": {},
   "source": [
    "Profiling orders from each day of the week"
   ]
  },
  {
   "cell_type": "code",
   "execution_count": 47,
   "id": "daf32a8a",
   "metadata": {},
   "outputs": [
    {
     "data": {
      "text/plain": [
       "0    6204404\n",
       "1    5660456\n",
       "6    4496635\n",
       "2    4213986\n",
       "5    4205906\n",
       "3    3840701\n",
       "4    3783953\n",
       "Name: order_day_of_week, dtype: int64"
      ]
     },
     "execution_count": 47,
     "metadata": {},
     "output_type": "execute_result"
    }
   ],
   "source": [
    "df_all['order_day_of_week'].value_counts(dropna = False)"
   ]
  },
  {
   "cell_type": "code",
   "execution_count": 48,
   "id": "e88d53ab",
   "metadata": {},
   "outputs": [
    {
     "data": {
      "image/png": "[encoded data removed]",
      "text/plain": [
       "<Figure size 640x480 with 1 Axes>"
      ]
     },
     "metadata": {},
     "output_type": "display_data"
    }
   ],
   "source": [
    "#Pie chart of orders for each day of the week\n",
    "day_of_week_pie = df_all['order_day_of_week'].value_counts().plot.pie(title = 'Day of Week Profile', label = '', autopct = ('%1.f%%'))"
   ]
  },
  {
   "cell_type": "markdown",
   "id": "fba7c03c",
   "metadata": {},
   "source": [
    "Saturday, or 0, the the day of the week with the highest orders."
   ]
  },
  {
   "cell_type": "code",
   "execution_count": 49,
   "id": "105c6f11",
   "metadata": {},
   "outputs": [
    {
     "data": {
      "text/html": [
       "<div>\n",
       "<style scoped>\n",
       "    .dataframe tbody tr th:only-of-type {\n",
       "        vertical-align: middle;\n",
       "    }\n",
       "\n",
       "    .dataframe tbody tr th {\n",
       "        vertical-align: top;\n",
       "    }\n",
       "\n",
       "    .dataframe thead tr th {\n",
       "        text-align: left;\n",
       "    }\n",
       "\n",
       "    .dataframe thead tr:last-of-type th {\n",
       "        text-align: right;\n",
       "    }\n",
       "</style>\n",
       "<table border=\"1\" class=\"dataframe\">\n",
       "  <thead>\n",
       "    <tr>\n",
       "      <th></th>\n",
       "      <th colspan=\"3\" halign=\"left\">days_since_prior_order</th>\n",
       "      <th colspan=\"4\" halign=\"left\">prices</th>\n",
       "    </tr>\n",
       "    <tr>\n",
       "      <th></th>\n",
       "      <th>min</th>\n",
       "      <th>max</th>\n",
       "      <th>mean</th>\n",
       "      <th>min</th>\n",
       "      <th>max</th>\n",
       "      <th>mean</th>\n",
       "      <th>sum</th>\n",
       "    </tr>\n",
       "    <tr>\n",
       "      <th>order_day_of_week</th>\n",
       "      <th></th>\n",
       "      <th></th>\n",
       "      <th></th>\n",
       "      <th></th>\n",
       "      <th></th>\n",
       "      <th></th>\n",
       "      <th></th>\n",
       "    </tr>\n",
       "  </thead>\n",
       "  <tbody>\n",
       "    <tr>\n",
       "      <th>0</th>\n",
       "      <td>0.0</td>\n",
       "      <td>30.0</td>\n",
       "      <td>11.614897</td>\n",
       "      <td>1.0</td>\n",
       "      <td>99999.0</td>\n",
       "      <td>11.166830</td>\n",
       "      <td>69283522.8</td>\n",
       "    </tr>\n",
       "    <tr>\n",
       "      <th>1</th>\n",
       "      <td>0.0</td>\n",
       "      <td>30.0</td>\n",
       "      <td>11.298707</td>\n",
       "      <td>1.0</td>\n",
       "      <td>99999.0</td>\n",
       "      <td>12.181130</td>\n",
       "      <td>68950753.1</td>\n",
       "    </tr>\n",
       "    <tr>\n",
       "      <th>2</th>\n",
       "      <td>0.0</td>\n",
       "      <td>30.0</td>\n",
       "      <td>11.282342</td>\n",
       "      <td>1.0</td>\n",
       "      <td>99999.0</td>\n",
       "      <td>12.356068</td>\n",
       "      <td>52068295.8</td>\n",
       "    </tr>\n",
       "    <tr>\n",
       "      <th>3</th>\n",
       "      <td>0.0</td>\n",
       "      <td>30.0</td>\n",
       "      <td>10.874996</td>\n",
       "      <td>1.0</td>\n",
       "      <td>99999.0</td>\n",
       "      <td>12.234838</td>\n",
       "      <td>46990355.6</td>\n",
       "    </tr>\n",
       "    <tr>\n",
       "      <th>4</th>\n",
       "      <td>0.0</td>\n",
       "      <td>30.0</td>\n",
       "      <td>10.547674</td>\n",
       "      <td>1.0</td>\n",
       "      <td>99999.0</td>\n",
       "      <td>12.169734</td>\n",
       "      <td>46049701.8</td>\n",
       "    </tr>\n",
       "    <tr>\n",
       "      <th>5</th>\n",
       "      <td>0.0</td>\n",
       "      <td>30.0</td>\n",
       "      <td>10.452171</td>\n",
       "      <td>1.0</td>\n",
       "      <td>99999.0</td>\n",
       "      <td>12.883977</td>\n",
       "      <td>54188796.1</td>\n",
       "    </tr>\n",
       "    <tr>\n",
       "      <th>6</th>\n",
       "      <td>0.0</td>\n",
       "      <td>30.0</td>\n",
       "      <td>11.269142</td>\n",
       "      <td>1.0</td>\n",
       "      <td>99999.0</td>\n",
       "      <td>11.273820</td>\n",
       "      <td>50694253.8</td>\n",
       "    </tr>\n",
       "  </tbody>\n",
       "</table>\n",
       "</div>"
      ],
      "text/plain": [
       "                  days_since_prior_order                  prices           \\\n",
       "                                     min   max       mean    min      max   \n",
       "order_day_of_week                                                           \n",
       "0                                    0.0  30.0  11.614897    1.0  99999.0   \n",
       "1                                    0.0  30.0  11.298707    1.0  99999.0   \n",
       "2                                    0.0  30.0  11.282342    1.0  99999.0   \n",
       "3                                    0.0  30.0  10.874996    1.0  99999.0   \n",
       "4                                    0.0  30.0  10.547674    1.0  99999.0   \n",
       "5                                    0.0  30.0  10.452171    1.0  99999.0   \n",
       "6                                    0.0  30.0  11.269142    1.0  99999.0   \n",
       "\n",
       "                                          \n",
       "                        mean         sum  \n",
       "order_day_of_week                         \n",
       "0                  11.166830  69283522.8  \n",
       "1                  12.181130  68950753.1  \n",
       "2                  12.356068  52068295.8  \n",
       "3                  12.234838  46990355.6  \n",
       "4                  12.169734  46049701.8  \n",
       "5                  12.883977  54188796.1  \n",
       "6                  11.273820  50694253.8  "
      ]
     },
     "execution_count": 49,
     "metadata": {},
     "output_type": "execute_result"
    }
   ],
   "source": [
    "#statistics of the day of the week orders profil\n",
    "day_of_week_sums = df_all.groupby(['order_day_of_week']).agg({'days_since_prior_order' : ['min', 'max', 'mean'], 'prices' : ['min', 'max', 'mean', 'sum']})\n",
    "day_of_week_sums"
   ]
  },
  {
   "cell_type": "markdown",
   "id": "5e4c3382",
   "metadata": {},
   "source": [
    "Saturday represents the day with the highest revenue, which aligns with the highest orders also. "
   ]
  },
  {
   "cell_type": "code",
   "execution_count": 50,
   "id": "1213e5e4",
   "metadata": {},
   "outputs": [],
   "source": [
    "#crosstab of day of the week orders and regions\n",
    "crosstab_region_day_of_week = pd.crosstab(df_all['region'], df_all['order_day_of_week'], dropna = False)"
   ]
  },
  {
   "cell_type": "code",
   "execution_count": 51,
   "id": "f2e74556",
   "metadata": {},
   "outputs": [
    {
     "data": {
      "image/png": "[encoded data removed]",
      "text/plain": [
       "<Figure size 640x480 with 1 Axes>"
      ]
     },
     "metadata": {},
     "output_type": "display_data"
    }
   ],
   "source": [
    "#stacked bar chart of day of the week orders broken down by regions\n",
    "region_day_of_week = crosstab_region_day_of_week.plot(kind = 'barh', stacked = True, color = sns.color_palette('Blues', 7))\n",
    "plt.legend(loc='lower right')\n",
    "plt.ylabel('Regions', fontweight = 'bold')\n",
    "plt.title('Day of week Orders Profile by Region', fontweight = 'bold')\n",
    "plt.show()"
   ]
  },
  {
   "cell_type": "markdown",
   "id": "fd67d042",
   "metadata": {},
   "source": [
    "Saturday in the south represents the highest, which makes sense as the south also represents the most families."
   ]
  },
  {
   "cell_type": "code",
   "execution_count": 52,
   "id": "347fd371",
   "metadata": {},
   "outputs": [],
   "source": [
    "#crosstab of orders day of the week and departments\n",
    "crosstab_dept_day_of_week = pd.crosstab(df_all['department'], df_all['order_day_of_week'], dropna = False)"
   ]
  },
  {
   "cell_type": "code",
   "execution_count": 53,
   "id": "fd3d9a2a",
   "metadata": {},
   "outputs": [
    {
     "data": {
      "image/png": "[encoded data removed]",
      "text/plain": [
       "<Figure size 640x480 with 1 Axes>"
      ]
     },
     "metadata": {},
     "output_type": "display_data"
    }
   ],
   "source": [
    "#stacked bar chart of orders day of the week broken down by department\n",
    "dept_day_of_week = crosstab_dept_day_of_week.plot(kind = 'barh', stacked = True, color = sns.color_palette('Blues', 7))\n",
    "plt.legend(loc='lower right')\n",
    "plt.ylabel('Department', fontweight = 'bold')\n",
    "plt.title('Day of Week Orders Profile by Department', fontweight = 'bold')\n",
    "plt.show()"
   ]
  },
  {
   "cell_type": "markdown",
   "id": "a20e7d6d",
   "metadata": {},
   "source": [
    "The produce department is the leading department where customers make their purchases and on Satuday. "
   ]
  },
  {
   "cell_type": "markdown",
   "id": "bf1b9d47",
   "metadata": {},
   "source": [
    "Export Visualizations"
   ]
  },
  {
   "cell_type": "code",
   "execution_count": 54,
   "id": "b43981a4",
   "metadata": {},
   "outputs": [
    {
     "data": {
      "text/plain": [
       "(32406041, 40)"
      ]
     },
     "execution_count": 54,
     "metadata": {},
     "output_type": "execute_result"
    }
   ],
   "source": [
    "df_all.shape"
   ]
  },
  {
   "cell_type": "code",
   "execution_count": 55,
   "id": "bac5532b",
   "metadata": {},
   "outputs": [
    {
     "data": {
      "text/plain": [
       "Index(['Unnamed: 0.1', 'Unnamed: 0', 'order_id', 'user_id', 'eval_set',\n",
       "       'order_number', 'order_day_of_week', 'order_hour_of_day',\n",
       "       'days_since_prior_order', 'product_id', 'add_to_cart_order',\n",
       "       'reordered', 'product_name', 'aisle_id', 'department_id', 'prices',\n",
       "       '_merge', 'price_range_loc', 'busiest_day', 'busiest_days',\n",
       "       'busiest_period_of_day', 'max_order', 'loyalty_flag', 'average_price',\n",
       "       'spending_flag', 'median_prior_orders', 'order_frequency_flag',\n",
       "       'gender', 'state', 'age', 'date_joined', 'number_dependants',\n",
       "       'family_status', 'income', 'region', 'low_order_flag', 'age_profile',\n",
       "       'department', 'income_profile', 'family_profile'],\n",
       "      dtype='object')"
      ]
     },
     "execution_count": 55,
     "metadata": {},
     "output_type": "execute_result"
    }
   ],
   "source": [
    "df_all.columns"
   ]
  },
  {
   "cell_type": "code",
   "execution_count": 56,
   "id": "f85a171e",
   "metadata": {},
   "outputs": [],
   "source": [
    "#remove un-needed columns\n",
    "df_all = df_all.drop(columns = ['Unnamed: 0.1', 'Unnamed: 0', 'aisle_id'])"
   ]
  },
  {
   "cell_type": "code",
   "execution_count": 57,
   "id": "7c164b44",
   "metadata": {},
   "outputs": [
    {
     "data": {
      "text/plain": [
       "(32406041, 37)"
      ]
     },
     "execution_count": 57,
     "metadata": {},
     "output_type": "execute_result"
    }
   ],
   "source": [
    "df_all.shape"
   ]
  },
  {
   "cell_type": "code",
   "execution_count": 58,
   "id": "3a583a8c",
   "metadata": {},
   "outputs": [
    {
     "data": {
      "text/plain": [
       "Index(['order_id', 'user_id', 'eval_set', 'order_number', 'order_day_of_week',\n",
       "       'order_hour_of_day', 'days_since_prior_order', 'product_id',\n",
       "       'add_to_cart_order', 'reordered', 'product_name', 'department_id',\n",
       "       'prices', '_merge', 'price_range_loc', 'busiest_day', 'busiest_days',\n",
       "       'busiest_period_of_day', 'max_order', 'loyalty_flag', 'average_price',\n",
       "       'spending_flag', 'median_prior_orders', 'order_frequency_flag',\n",
       "       'gender', 'state', 'age', 'date_joined', 'number_dependants',\n",
       "       'family_status', 'income', 'region', 'low_order_flag', 'age_profile',\n",
       "       'department', 'income_profile', 'family_profile'],\n",
       "      dtype='object')"
      ]
     },
     "execution_count": 58,
     "metadata": {},
     "output_type": "execute_result"
    }
   ],
   "source": [
    "df_all.columns"
   ]
  },
  {
   "cell_type": "code",
   "execution_count": 59,
   "id": "009b6eea",
   "metadata": {},
   "outputs": [],
   "source": [
    "#export visualizations\n",
    "age_profile_pie.figure.savefig(r'/Users/samuelcallender/Documents/ Instacart Basket Analysis/04 Analysis/Visualizations/age_profile_pie.png')"
   ]
  },
  {
   "cell_type": "code",
   "execution_count": 60,
   "id": "6b2ca4b0",
   "metadata": {},
   "outputs": [],
   "source": [
    "region_age.figure.savefig(r'/Users/samuelcallender/Documents/ Instacart Basket Analysis/04 Analysis/Visualizations/region_age.png')"
   ]
  },
  {
   "cell_type": "code",
   "execution_count": 61,
   "id": "4de2d860",
   "metadata": {},
   "outputs": [],
   "source": [
    "dept_age.figure.savefig(r'/Users/samuelcallender/Documents/ Instacart Basket Analysis/04 Analysis/Visualizations/dept_age.png')"
   ]
  },
  {
   "cell_type": "code",
   "execution_count": 62,
   "id": "e5fa5f0e",
   "metadata": {},
   "outputs": [],
   "source": [
    "income_profile_pie.figure.savefig(r'/Users/samuelcallender/Documents/ Instacart Basket Analysis/04 Analysis/Visualizations/income_profile_pie.png')"
   ]
  },
  {
   "cell_type": "code",
   "execution_count": 63,
   "id": "bed12861",
   "metadata": {},
   "outputs": [],
   "source": [
    "region_income.figure.savefig(r'/Users/samuelcallender/Documents/ Instacart Basket Analysis/04 Analysis/Visualizations/region_income.png')"
   ]
  },
  {
   "cell_type": "code",
   "execution_count": 64,
   "id": "1929d7fa",
   "metadata": {},
   "outputs": [],
   "source": [
    "dept_income.figure.savefig(r'/Users/samuelcallender/Documents/ Instacart Basket Analysis/04 Analysis/Visualizations/dept_income.png')"
   ]
  },
  {
   "cell_type": "code",
   "execution_count": 65,
   "id": "d26c9a09",
   "metadata": {},
   "outputs": [],
   "source": [
    "family_profile_pie.figure.savefig(r'/Users/samuelcallender/Documents/ Instacart Basket Analysis/04 Analysis/Visualizations/family_profile_pie.png')"
   ]
  },
  {
   "cell_type": "code",
   "execution_count": 66,
   "id": "e56b0d0d",
   "metadata": {},
   "outputs": [],
   "source": [
    "region_family.figure.savefig(r'/Users/samuelcallender/Documents/ Instacart Basket Analysis/04 Analysis/Visualizations/region_family.png')"
   ]
  },
  {
   "cell_type": "code",
   "execution_count": 67,
   "id": "7a7d4047",
   "metadata": {},
   "outputs": [],
   "source": [
    "dept_family.figure.savefig(r'/Users/samuelcallender/Documents/ Instacart Basket Analysis/04 Analysis/Visualizations/dept_family.png')"
   ]
  },
  {
   "cell_type": "code",
   "execution_count": 68,
   "id": "7c046d26",
   "metadata": {},
   "outputs": [],
   "source": [
    "day_of_week_pie.figure.savefig(r'/Users/samuelcallender/Documents/ Instacart Basket Analysis/04 Analysis/Visualizations/day_of_week_pie.png')"
   ]
  },
  {
   "cell_type": "code",
   "execution_count": 69,
   "id": "2d4bfe0a",
   "metadata": {},
   "outputs": [],
   "source": [
    "region_day_of_week.figure.savefig(r'/Users/samuelcallender/Documents/ Instacart Basket Analysis/04 Analysis/Visualizations/region_day_of_week.png')"
   ]
  },
  {
   "cell_type": "code",
   "execution_count": 71,
   "id": "dfe96a9c",
   "metadata": {},
   "outputs": [],
   "source": [
    "dept_day_of_week.figure.savefig(r'/Users/samuelcallender/Documents/ Instacart Basket Analysis/04 Analysis/Visualizations/dept_day_of_week.png')"
   ]
  },
  {
   "cell_type": "code",
   "execution_count": 73,
   "id": "af6741f3",
   "metadata": {},
   "outputs": [],
   "source": [
    "#export final dataset\n",
    "df_all.to_pickle(r'/Users/samuelcallender/Documents/ Instacart Basket Analysis/02 Data/Prepared Data/final_dataset.pkl')"
   ]
  },
  {
   "cell_type": "code",
   "execution_count": null,
   "id": "3e7c0adb",
   "metadata": {},
   "outputs": [],
   "source": []
  }
 ],
 "metadata": {
  "kernelspec": {
   "display_name": "Python 3 (ipykernel)",
   "language": "python",
   "name": "python3"
  },
  "language_info": {
   "codemirror_mode": {
    "name": "ipython",
    "version": 3
   },
   "file_extension": ".py",
   "mimetype": "text/x-python",
   "name": "python",
   "nbconvert_exporter": "python",
   "pygments_lexer": "ipython3",
   "version": "3.10.9"
  }
 },
 "nbformat": 4,
 "nbformat_minor": 5
}
