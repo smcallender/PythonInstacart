{
 "cells": [
  {
   "cell_type": "code",
   "execution_count": 1,
   "id": "c5ecc00f",
   "metadata": {},
   "outputs": [],
   "source": [
    "#import libraries\n",
    "import pandas as pd\n",
    "import numpy as np\n",
    "import os"
   ]
  },
  {
   "cell_type": "code",
   "execution_count": 2,
   "id": "a9ceeb8e",
   "metadata": {},
   "outputs": [],
   "source": [
    "df_ords_merged = pd.read_pickle(r'/Users/samuelcallender/Documents/ Instacart Basket Analysis/02 Data/Prepared Data/orders_products_merged_updated_2.pkl')"
   ]
  },
  {
   "cell_type": "code",
   "execution_count": 3,
   "id": "25b2ef1e",
   "metadata": {},
   "outputs": [
    {
     "data": {
      "text/plain": [
       "dtype('int64')"
      ]
     },
     "execution_count": 3,
     "metadata": {},
     "output_type": "execute_result"
    }
   ],
   "source": [
    "# Checking the type of the columnn 'user_id'\n",
    "df_ords_merged['user_id'].dtype"
   ]
  },
  {
   "cell_type": "code",
   "execution_count": 4,
   "id": "6359894a",
   "metadata": {},
   "outputs": [
    {
     "data": {
      "text/plain": [
       "dtype('O')"
      ]
     },
     "execution_count": 4,
     "metadata": {},
     "output_type": "execute_result"
    }
   ],
   "source": [
    "#Changing a variable's data type\n",
    "df_ords_merged['user_id'] = df_ords_merged['user_id'].astype('str')\n",
    "df_ords_merged['user_id'].dtype"
   ]
  },
  {
   "cell_type": "code",
   "execution_count": 5,
   "id": "8d13a9ed",
   "metadata": {},
   "outputs": [],
   "source": [
    "#export dataframe\n",
    "df_ords_merged.to_pickle(r'/Users/samuelcallender/Documents/ Instacart Basket Analysis/02 Data/Prepared Data/orders_products_merged_updated_3.pkl')"
   ]
  },
  {
   "cell_type": "code",
   "execution_count": null,
   "id": "3e0fb789",
   "metadata": {},
   "outputs": [],
   "source": []
  }
 ],
 "metadata": {
  "kernelspec": {
   "display_name": "Python 3 (ipykernel)",
   "language": "python",
   "name": "python3"
  },
  "language_info": {
   "codemirror_mode": {
    "name": "ipython",
    "version": 3
   },
   "file_extension": ".py",
   "mimetype": "text/x-python",
   "name": "python",
   "nbconvert_exporter": "python",
   "pygments_lexer": "ipython3",
   "version": "3.10.9"
  }
 },
 "nbformat": 4,
 "nbformat_minor": 5
}
